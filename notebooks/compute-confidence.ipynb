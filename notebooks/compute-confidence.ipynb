{
 "cells": [
  {
   "cell_type": "code",
   "execution_count": 201,
   "metadata": {},
   "outputs": [
    {
     "name": "stdout",
     "output_type": "stream",
     "text": [
      "The autoreload extension is already loaded. To reload it, use:\n",
      "  %reload_ext autoreload\n"
     ]
    }
   ],
   "source": [
    "%load_ext autoreload\n",
    "%autoreload 2\n",
    "%matplotlib inline"
   ]
  },
  {
   "cell_type": "code",
   "execution_count": 200,
   "metadata": {},
   "outputs": [],
   "source": [
    "import numpy as np\n",
    "from numpy.random import default_rng\n",
    "import scipy\n",
    "import matplotlib.pyplot as plt\n",
    "from tqdm.notebook import tqdm_notebook as tqdm\n",
    "import pandas as pd\n",
    "import pathlib\n",
    "from collections import defaultdict\n",
    "from scipy.linalg import svd\n",
    "import seaborn as sns\n",
    "import multiprocessing\n",
    "from functools import partial, reduce\n",
    "import ruamel.yaml\n",
    "yaml = ruamel.yaml.YAML()\n",
    "from causal_optoconnectics.graphics import regplot, scatterplot, probplot\n",
    "from causal_optoconnectics.tools import min_error\n",
    "from causal_optoconnectics.core import Connectivity\n"
   ]
  },
  {
   "cell_type": "markdown",
   "metadata": {},
   "source": [
    "# Process results"
   ]
  },
  {
   "cell_type": "code",
   "execution_count": 3,
   "metadata": {},
   "outputs": [],
   "source": [
    "data_path = pathlib.Path('/home/users/bjornmik/datasets/sweep_3/')"
   ]
  },
  {
   "cell_type": "code",
   "execution_count": 152,
   "metadata": {},
   "outputs": [],
   "source": [
    "def bootstrap_ci(bs_replicates, alpha=0.05):\n",
    "    low, high = np.percentile(bs_replicates, [(alpha / 2.0) * 100, (1 - alpha / 2.0) * 100])\n",
    "    return low, high\n",
    "\n",
    "\n",
    "def bootstrap_pvalue(case, control, obs_diff, statistic=np.mean, alpha_ci=0.05):\n",
    "    diffs = case - control\n",
    "    low, high = np.percentile(diffs, [(alpha_ci / 2.0) * 100, (1 - alpha_ci / 2.0) * 100])\n",
    "\n",
    "    diffs_shifted = diffs - statistic(diffs)\n",
    "\n",
    "    emp_diff_pctile_rnk = scipy.stats.percentileofscore(diffs_shifted, obs_diff)\n",
    "\n",
    "    auc_left = emp_diff_pctile_rnk / 100\n",
    "    auc_right = 1 - auc_left\n",
    "    pval = min([auc_left, auc_right]) * 2\n",
    "\n",
    "    return pval, low, high, diffs, obs_diff\n",
    "    \n",
    "def reduce_sum(dfs):\n",
    "    keys = [\n",
    "        'yz_sum',\n",
    "        'z_sum',\n",
    "        'yx_sum',\n",
    "        'x_sum',\n",
    "        'yxinv_sum',\n",
    "        'xinv_sum',\n",
    "        'y0z_sum',\n",
    "        'y0x_sum',\n",
    "        'y0xinv_sum',\n",
    "        'n_trials'\n",
    "    ]\n",
    "    result = dfs[0]\n",
    "    for key in keys:\n",
    "        result[key] = sum([df[key].values for df in dfs])\n",
    "    return result\n",
    "\n",
    "def conditional_sum(s1, s2):\n",
    "    l = [\n",
    "        'yz_sum',\n",
    "        'z_sum',\n",
    "        'yx_sum',\n",
    "        'x_sum',\n",
    "        'yxinv_sum',\n",
    "        'xinv_sum',\n",
    "        'y0z_sum',\n",
    "        'y0x_sum',\n",
    "        'y0xinv_sum',\n",
    "        'n_trials'\n",
    "    ]\n",
    "    if s1.name in l:\n",
    "        return s1 + s2\n",
    "    else:\n",
    "        assert (s1 == s2).all()\n",
    "        return s1\n",
    "\n",
    "def compute_connectivity_from_sum(row):\n",
    "    conn = Connectivity(\n",
    "        compute_values=False,\n",
    "        compute_sums=False\n",
    "    )\n",
    "    conn.__dict__.update(row.to_dict())\n",
    "    conn.compute()\n",
    "    result = conn.__dict__\n",
    "    return result"
   ]
  },
  {
   "cell_type": "code",
   "execution_count": 136,
   "metadata": {},
   "outputs": [],
   "source": [
    "n_iter = 100"
   ]
  },
  {
   "cell_type": "code",
   "execution_count": 144,
   "metadata": {},
   "outputs": [],
   "source": [
    "from scipy.stats import sem"
   ]
  },
  {
   "cell_type": "code",
   "execution_count": 145,
   "metadata": {},
   "outputs": [],
   "source": [
    "paths = [path for path in data_path.iterdir() if path.is_dir()]\n",
    "data_df = pd.DataFrame({'path': paths})\n",
    "df = {i: defaultdict(list) for i in data_df.index}\n",
    "rng = default_rng()\n",
    "pbar = tqdm(total=len(paths)*n_iter)\n",
    "for i, row in data_df.iterrows():\n",
    "    samples = [pd.read_csv(p) for p in row.path.glob('rank*.csv')]\n",
    "    for ii in range(n_iter):\n",
    "        # idxs = rng.choice(len(samples), size=len(samples)-10, replace=False)\n",
    "        idxs = rng.choice(len(samples), size=len(samples), replace=True)\n",
    "        # sample = reduce(lambda  left, right: left.combine(right, conditional_sum), [samples[i] for i in idxs])\n",
    "        sample = reduce_sum([samples[j] for j in idxs])\n",
    "        sample = pd.DataFrame([\n",
    "            compute_connectivity_from_sum(row)\n",
    "            for i, row in sample.iterrows()])\n",
    "        df[i]['error_beta_did'].append(min_error(sample, 'beta_did').fun)\n",
    "        df[i]['error_beta_iv_did'].append(min_error(sample, 'beta_iv_did').fun)\n",
    "        df[i]['error_beta'].append(min_error(sample, 'beta').fun)\n",
    "        df[i]['error_beta_iv'].append(min_error(sample, 'beta_iv').fun)\n",
    "        pbar.update(1)\n",
    "pbar.close()\n",
    "\n",
    "for i, row in data_df.iterrows():\n",
    "    with open(row.path / 'params.yaml', 'r') as f:\n",
    "        params = yaml.load(f)\n",
    "    data_df.loc[i, params.keys()] = params.values()\n",
    "    data_df.loc[i, 'error_beta_did'] = np.mean(df[i]['error_beta_did'])\n",
    "    data_df.loc[i, 'error_beta_iv_did'] = np.mean(df[i]['error_beta_iv_did'])\n",
    "    data_df.loc[i, 'error_beta'] = np.mean(df[i]['error_beta'])\n",
    "    data_df.loc[i, 'error_beta_iv'] = np.mean(df[i]['error_beta_iv'])\n",
    "    \n",
    "    data_df.loc[i, 'error_beta_did_ci'] = str(bootstrap_ci(df[i]['error_beta_did']))\n",
    "    data_df.loc[i, 'error_beta_iv_did_ci'] = str(bootstrap_ci(df[i]['error_beta_iv_did']))\n",
    "    data_df.loc[i, 'error_beta_ci'] = str(bootstrap_ci(df[i]['error_beta']))\n",
    "    data_df.loc[i, 'error_beta_iv_ci'] = str(bootstrap_ci(df[i]['error_beta_iv']))\n",
    "    \n",
    "    data_df.loc[i, 'error_beta_did_sem'] = sem(df[i]['error_beta_did'])\n",
    "    data_df.loc[i, 'error_beta_iv_did_sem'] = sem(df[i]['error_beta_iv_did'])\n",
    "    data_df.loc[i, 'error_beta_sem'] = sem(df[i]['error_beta'])\n",
    "    data_df.loc[i, 'error_beta_iv_sem'] = sem(df[i]['error_beta_iv'])"
   ]
  },
  {
   "cell_type": "code",
   "execution_count": 148,
   "metadata": {},
   "outputs": [
    {
     "data": {
      "application/vnd.jupyter.widget-view+json": {
       "model_id": "f3deb5416ed0411eb368744b60d505c9",
       "version_major": 2,
       "version_minor": 0
      },
      "text/plain": [
       "  0%|          | 0/10 [00:00<?, ?it/s]"
      ]
     },
     "metadata": {},
     "output_type": "display_data"
    }
   ],
   "source": [
    "paths = [path for path in data_path.iterdir() if path.is_dir()]\n",
    "observed_df = pd.DataFrame({'path': paths})\n",
    "for i, row in tqdm(observed_df.iterrows(), total=len(paths)):\n",
    "    samples = [pd.read_csv(p) for p in row.path.glob('rank*.csv')]\n",
    "    sample = reduce_sum([samples[j] for j in idxs])\n",
    "    sample = pd.DataFrame([\n",
    "        compute_connectivity_from_sum(row)\n",
    "        for i, row in sample.iterrows()])\n",
    "    \n",
    "    with open(row.path / 'params.yaml', 'r') as f:\n",
    "        params = yaml.load(f)\n",
    "    observed_df.loc[i, params.keys()] = params.values()\n",
    "    observed_df.loc[i, 'error_beta_did'] = min_error(sample, 'beta_did').fun\n",
    "    observed_df.loc[i, 'error_beta_iv_did'] = min_error(sample, 'beta_iv_did').fun\n",
    "    observed_df.loc[i, 'error_beta'] = min_error(sample, 'beta').fun\n",
    "    observed_df.loc[i, 'error_beta_iv'] = min_error(sample, 'beta_iv').fun\n"
   ]
  },
  {
   "cell_type": "code",
   "execution_count": 150,
   "metadata": {},
   "outputs": [
    {
     "data": {
      "text/plain": [
       "(10, 100)"
      ]
     },
     "execution_count": 150,
     "metadata": {},
     "output_type": "execute_result"
    }
   ],
   "source": [
    "np.array([df[k]['error_beta_did'] for k in range(len(df))]).shape"
   ]
  },
  {
   "cell_type": "code",
   "execution_count": 160,
   "metadata": {},
   "outputs": [
    {
     "data": {
      "text/plain": [
       "(1.0,\n",
       " -2.984491429176182,\n",
       " 6.556549168300645,\n",
       " array([ 3.7660141 ,  2.19056313,  7.01733242,  4.96940686,  4.91576392,\n",
       "         1.78546081,  3.03800674, -3.05896539, -2.36852401, -2.72797001]),\n",
       " 0.8380508526771326)"
      ]
     },
     "execution_count": 160,
     "metadata": {},
     "output_type": "execute_result"
    }
   ],
   "source": [
    "pval, low, high, diffs, obs_diff = bootstrap_pvalue(\n",
    "    data_df['error_beta_did'].values, observed_df['error_beta_iv_did'].values,\n",
    "    (observed_df['error_beta_did'] - observed_df['error_beta_iv_did']).values.mean()\n",
    ")\n",
    "pval, low, high, diffs, obs_diff"
   ]
  },
  {
   "cell_type": "code",
   "execution_count": null,
   "metadata": {},
   "outputs": [],
   "source": [
    "data_df[['error_beta_did_ci', 'error_beta_did', 'sparsity']]"
   ]
  },
  {
   "cell_type": "code",
   "execution_count": 146,
   "metadata": {},
   "outputs": [],
   "source": [
    "data_df = data_df.sort_values('sparsity')"
   ]
  },
  {
   "cell_type": "code",
   "execution_count": 147,
   "metadata": {},
   "outputs": [
    {
     "data": {
      "text/plain": [
       "Text(0, 0.5, '$\\\\mathrm{Error}$')"
      ]
     },
     "execution_count": 147,
     "metadata": {},
     "output_type": "execute_result"
    },
    {
     "data": {
      "image/png": "[encoded data removed]",
      "text/plain": [
       "<Figure size 750x750 with 1 Axes>"
      ]
     },
     "metadata": {
      "needs_background": "light"
     },
     "output_type": "display_data"
    }
   ],
   "source": [
    "fig, ax = plt.subplots(1,1, figsize=(5,5), dpi=150)\n",
    "ax.plot(data_df.sparsity, data_df['error_beta_did'], label=r'$\\hat{\\beta}_{DiD}$', color='C1')\n",
    "# ax.fill_between(data_df.sparsity, *np.array([eval(a) for a in data_df['error_beta_did_ci'].values]).T, alpha=.5, color='C1')\n",
    "ax.fill_between(data_df.sparsity, data_df['error_beta_did'] - data_df['error_beta_did_sem'], data_df['error_beta_did'] + data_df['error_beta_did_sem'], alpha=.5, color='C1')\n",
    "                \n",
    "# ax.plot(data_df.sparsity, data_df['error_beta_iv_did'], label=r'$\\hat{\\beta}_{IV,DiD}$', color='C2')\n",
    "# ax.fill_between(data_df.sparsity, *np.array([eval(a) for a in data_df['error_beta_iv_did_ci'].values]).T, alpha=.5, color='C2')\n",
    "\n",
    "# ax.plot(data_df.sparsity, data_df['error_beta'], label=r'$\\hat{\\beta}$', color='C3')\n",
    "# ax.fill_between(data_df.sparsity, *np.array([eval(a) for a in data_df['error_beta_ci'].values]).T, alpha=.5, color='C3')\n",
    "\n",
    "# ax.plot(data_df.sparsity, data_df['error_beta_iv'], label=r'$\\hat{\\beta}_{IV}$', color='C4')\n",
    "# ax.fill_between(data_df.sparsity, *np.array([eval(a) for a in data_df['error_beta_iv_ci'].values]).T, alpha=.5, color='C4')\n",
    "\n",
    "plt.legend(frameon=False)\n",
    "sns.despine()\n",
    "ax.set_xlabel('Sparsity')\n",
    "ax.set_ylabel(r'$\\mathrm{Error}$')"
   ]
  },
  {
   "cell_type": "code",
   "execution_count": 227,
   "metadata": {},
   "outputs": [],
   "source": [
    "# def compute_stim_amps(params, nodes, rng):\n",
    "nodes = np.arange(params['n_ex_neurons'])\n",
    "def intensity(z):\n",
    "    rho = params['r'] * np.sqrt((params['n'] / params['NA'])**2 - 1)\n",
    "    return rho**2 / ((params['S'] * z + 1) * (z + rho)**2)\n",
    "\n",
    "def affected_neurons(z):\n",
    "    theta = np.arcsin(params['NA'] / params['n'])\n",
    "    lcorr = params['r'] / np.tan(theta)\n",
    "    rad = (z + lcorr) * np.tan(theta)\n",
    "    A = np.pi * rad**2\n",
    "    dz = z[1] - z[0]\n",
    "    dV = A * dz\n",
    "    density = params['n_stim'] / sum(dV)\n",
    "    params['density'] = density\n",
    "    N = dV * density\n",
    "    return N\n",
    "\n",
    "def hill(I):\n",
    "    In = I**params['n_hill']\n",
    "    return params['Imax'] * In / (params['K']**params['n_hill'] + In) # peak amplitude of the current response\n",
    "\n",
    "# Set dc stimulation\n",
    "z = np.linspace(0, params['depth'], params['n_pos'])\n",
    "n_slice = affected_neurons(z).astype(int)\n",
    "I = intensity(z)\n",
    "A = hill(params['I0'] * I)\n",
    "A = A / A.max()\n",
    "idx = 0\n",
    "stim_amps = {}\n",
    "for i, n_stim in enumerate(n_slice):\n",
    "    amp = A[i] * params['stim_strength']\n",
    "    stim_amps.update({n: amp for n in nodes[idx:idx + n_stim]})\n",
    "    idx += n_stim\n",
    "# return stim_amps"
   ]
  },
  {
   "cell_type": "code",
   "execution_count": 224,
   "metadata": {},
   "outputs": [
    {
     "data": {
      "text/plain": [
       "array([0, 0, 0, 0, 0, 0, 0, 0, 0, 0, 0, 0, 0, 0, 0, 0, 0, 0, 0, 0, 0, 0,\n",
       "       0, 0, 0, 0, 0, 0, 0, 0, 0, 0, 0, 0, 0, 0, 0, 0, 0, 0, 0, 0, 0, 0,\n",
       "       0, 0, 0, 0, 0, 0, 0, 0, 0, 0, 1, 1, 1, 1, 1, 1, 1, 1, 1, 1, 1, 1,\n",
       "       1, 1, 1, 1, 1, 1, 1, 1, 1, 1, 1, 1, 1, 1, 1, 1, 1, 1, 1, 1, 1, 1,\n",
       "       1, 1, 1, 1, 1, 1, 1, 1, 1, 2, 2, 2])"
      ]
     },
     "execution_count": 224,
     "metadata": {},
     "output_type": "execute_result"
    }
   ],
   "source": [
    "n_slice"
   ]
  },
  {
   "cell_type": "code",
   "execution_count": 228,
   "metadata": {},
   "outputs": [
    {
     "data": {
      "text/plain": [
       "1049.0761686802164"
      ]
     },
     "execution_count": 228,
     "metadata": {},
     "output_type": "execute_result"
    }
   ],
   "source": [
    "params['density']"
   ]
  },
  {
   "cell_type": "code",
   "execution_count": 221,
   "metadata": {},
   "outputs": [],
   "source": [
    "params = {\n",
    "    'const': 5,\n",
    "    'n_neurons': 1000,\n",
    "    'n_ex_neurons': 800,\n",
    "    'n_in_neurons': 200,\n",
    "    'dt': 1e-3,\n",
    "    'ref_scale': 10,\n",
    "    'abs_ref_scale': 3,\n",
    "    'spike_scale': 5,\n",
    "    'abs_ref_strength': -100,\n",
    "    'rel_ref_strength': -30,\n",
    "    'stim_scale': 2,\n",
    "    'stim_strength': 5,\n",
    "    'stim_period': 50,\n",
    "    'stim_isi_min': 10,\n",
    "    'stim_isi_max': 200,\n",
    "    'n_stim': 100,\n",
    "    'drive_scale': 10,\n",
    "    'drive_strength': -10,\n",
    "    'drive_period': 100,\n",
    "    'alpha': 0.2,\n",
    "    'sparsity': 0.9,\n",
    "    'lognormal': {\n",
    "        'mu_ex': 2,\n",
    "        'sigma_ex': 4,\n",
    "        'low_ex': 0,\n",
    "        'high_ex': 5,\n",
    "        'mu_in': 4,\n",
    "        'sigma_in': 4,\n",
    "        'low_in': 0,\n",
    "        'high_in': 5\n",
    "    },\n",
    "    'n_time_step': int(1e6),\n",
    "    # 'seed': 12345 + rank,\n",
    "    # Optogenetics\n",
    "    'I0': 10, # light intensity leaving fibre mW/mm2\n",
    "    'r': 100e-3, # 100 um radius of fiber\n",
    "    'n': 1.36, # refraction index of gray matter\n",
    "    'NA': 0.37, # Numerical Aperture of fiber\n",
    "    'S': 10.3, # mm^-1 scattering index for rat, mouse = 11.2\n",
    "    'n_pos': 100,\n",
    "    'depth': .7,\n",
    "    'Imax': 642, # max current pA\n",
    "    'K': 0.84, # half-maximal light sensitivity of the ChR2 mW/mm2\n",
    "    'n_hill': 0.76, # Hill coefficient\n",
    "}"
   ]
  },
  {
   "cell_type": "code",
   "execution_count": 215,
   "metadata": {},
   "outputs": [
    {
     "name": "stdout",
     "output_type": "stream",
     "text": [
      "[0 0 0 0 0 0 0 0 0 0 0 0 0 0 0 0 0 0 0 0 0 0 0 0 0 0 0 0 0 0 0 0 0 0 0 0 0\n",
      " 0 0 0 0 0 0 0 0 0 0 0 0 0 0 0 0 0 0 0 0 0 0 0 0 0 0 0 0 0 0 0 0 0 0 0 0 0\n",
      " 0 0 0 0 0 0 0 0 0 0 0 0 0 0 0 0 0 0 0 0 0 0 0 0 0 0 0 0 0 0 0 0 0 0 0 0 0\n",
      " 0 0 0 0 0 0 0 0 0 0 0 0 0 0 0 0 0 0 0 0 0 0 0 0 0 0 0 0 0 0 0 0 0 0 0 0 0\n",
      " 0 0 0 0 0 0 0 0 0 0 0 0 0 0 0 0 0 0 0 0 0 0 0 0 0 0 0 0 0 0 0 0 0 0 0 0 0\n",
      " 0 0 0 0 0 0 0 0 0 0 0 0 0 0 0 0 0 0 0 0 0 0 0 0 0 0 0 0 0 0 0 0 0 0 0 0 0\n",
      " 0 0 0 0 0 0 0 0 0 0 0 0 0 0 0 0 0 0 0 0 0 0 0 0 0 0 0 0 0 0 0 0 0 0 0 0 0\n",
      " 0 0 0 0 0 0 0 0 0 0 0 0 0 0 0 0 0 0 0 0 0 0 0 0 0 0 0 0 0 0 0 0 0 0 0 0 0\n",
      " 0 0 0 0 0 0 0 0 0 0 0 0 0 0 0 0 0 0 0 0 0 0 0 0 0 0 0 0 0 0 0 0 0 0 0 0 0\n",
      " 0 0 0 0 0 0 0 0 0 0 0 0 0 0 0 0 0 0 0 0 0 0 0 0 0 0 0 0 0 0 0 0 0 0 0 0 0\n",
      " 0 0 0 0 0 0 0 0 0 0 0 0 0 0 0 0 0 0 0 0 0 0 0 0 0 0 0 0 0 0 0 0 0 0 0 0 0\n",
      " 0 0 0 0 0 0 0 0 0 0 0 0 0 0 0 0 0 0 0 0 0 0 0 0 0 0 0 0 0 0 0 0 0 0 0 0 0\n",
      " 0 0 0 0 0 0 0 0 0 0 0 0 0 0 0 0 0 0 0 0 0 0 0 0 0 0 0 0 0 0 0 0 0 0 0 0 0\n",
      " 0 0 0 0 0 0 0 0 0 0 0 0 0 0 0 0 0 0 0 0 0 0 0 0 0 0 0 0 0 0 0 0 0 0 0 0 0\n",
      " 0 0 0 0 0 0 0 0 0 0 0 0 0 0 0 0 0 0 0 0 0 0 0 1 1 1 1 1 1 1 1 1 1 1 1 1 1\n",
      " 1 1 1 1 1 1 1 1 1 1 1 1 1 1 1 1 1 1 1 1 1 1 1 1 1 1 1 1 1 1 1 1 1 1 1 1 1\n",
      " 1 1 1 1 1 1 1 1 1 1 1 1 1 1 1 1 1 1 1 1 1 1 1 1 1 1 1 1 1 1 1 1 1 1 1 1 1\n",
      " 1 1 1 1 1 1 1 1 1 1 1 1 1 1 1 1 1 1 1 1 1 1 1 1 1 1 1 1 1 1 1 1 1 1 1 1 1\n",
      " 1 1 1 1 1 1 1 1 1 1 1 1 1 1 1 1 1 1 1 1 1 1 1 1 1 1 1 1 1 1 1 1 1 1 1 1 1\n",
      " 1 1 1 1 1 1 1 1 1 1 1 1 1 1 1 1 1 1 1 1 1 1 1 1 1 1 1 1 1 1 1 1 1 1 1 1 1\n",
      " 1 1 1 1 1 1 1 1 1 1 1 1 1 1 1 1 1 1 1 1 1 1 1 1 1 1 1 1 1 1 1 1 1 1 1 1 1\n",
      " 1 1 1 1 1 1 1 1 1 1 1 1 1 1 1 1 1 1 1 1 1 1 1 1 1 1 1 1 1 1 1 1 1 1 1 1 1\n",
      " 1 1 1 1 1 1 1 1 1 1 1 1 1 1 1 1 1 1 1 1 1 1 1 1 1 1 1 1 1 1 1 1 1 1 1 1 1\n",
      " 1 1 1 1 1 1 1 1 1 1 1 1 1 1 1 1 1 1 1 1 1 1 1 1 1 1 1 1 1 1 1 1 1 1 1 1 1\n",
      " 1 1 1 1 1 1 1 1 1 1 1 1 1 1 1 1 1 1 1 1 1 1 1 1 1 1 1 1 1 1 1 1 1 1 1 1 1\n",
      " 1 1 1 1 1 1 1 1 1 1 1 1 1 1 1 1 1 1 1 1 1 1 1 1 1 1 1 1 1 1 1 1 1 1 1 1 1\n",
      " 1 1 1 1 1 1 1 1 1 1 1 2 2 2 2 2 2 2 2 2 2 2 2 2 2 2 2 2 2 2 2 2 2 2 2 2 2\n",
      " 2]\n"
     ]
    }
   ],
   "source": [
    "s = compute_stim_amps(params, np.arange(params['n_ex_neurons']), rng)"
   ]
  },
  {
   "cell_type": "code",
   "execution_count": 225,
   "metadata": {},
   "outputs": [
    {
     "data": {
      "image/png": "[encoded data removed]",
      "text/plain": [
       "<Figure size 432x288 with 1 Axes>"
      ]
     },
     "metadata": {
      "needs_background": "light"
     },
     "output_type": "display_data"
    }
   ],
   "source": [
    "plt.hist(s.values());"
   ]
  },
  {
   "cell_type": "code",
   "execution_count": 183,
   "metadata": {},
   "outputs": [
    {
     "data": {
      "text/plain": [
       "0.1"
      ]
     },
     "execution_count": 183,
     "metadata": {},
     "output_type": "execute_result"
    }
   ],
   "source": [
    "np.sum(W!=0) / W.size"
   ]
  },
  {
   "cell_type": "code",
   "execution_count": 180,
   "metadata": {},
   "outputs": [
    {
     "data": {
      "image/png": "[encoded data removed]",
      "text/plain": [
       "<Figure size 432x288 with 1 Axes>"
      ]
     },
     "metadata": {
      "needs_background": "light"
     },
     "output_type": "display_data"
    }
   ],
   "source": [
    "W[W==0] = np.nan\n",
    "plt.hist(W.ravel());"
   ]
  },
  {
   "cell_type": "code",
   "execution_count": 165,
   "metadata": {},
   "outputs": [
    {
     "data": {
      "text/plain": [
       "array([[5.47332101e-02, 7.35496701e-01, 1.94515171e-01, ...,\n",
       "        4.20633270e-01, 5.46871881e-01, 1.46906991e-01],\n",
       "       [3.80064372e-01, 7.89124628e-02, 4.74479230e-02, ...,\n",
       "        1.00709582e-02, 2.65937944e-02, 4.10402020e+00],\n",
       "       [1.73304518e-02, 4.38911077e-02, 1.86893706e-03, ...,\n",
       "        4.36331298e+00, 1.03939980e+00, 1.03636770e+00],\n",
       "       ...,\n",
       "       [7.20534269e-03, 7.43969292e-03, 5.71282768e-01, ...,\n",
       "        4.93643098e-01, 4.21384696e-01, 7.17533695e-01],\n",
       "       [2.73327091e-01, 2.10274306e+00, 4.09355313e-02, ...,\n",
       "        4.65894888e-01, 1.67499770e-01, 2.89464501e-01],\n",
       "       [1.45040247e-02, 1.41546880e+00, 4.82728308e+00, ...,\n",
       "        5.93055971e+00, 3.90737903e+00, 8.87493829e-03]])"
      ]
     },
     "execution_count": 165,
     "metadata": {},
     "output_type": "execute_result"
    }
   ],
   "source": [
    "clipped_lognormal(\n",
    "        mu=2,\n",
    "        sigma=4,\n",
    "        size=(params['n_ex_neurons'], params['n_neurons']),\n",
    "        low=0,\n",
    "        high=6,\n",
    "    )"
   ]
  }
 ],
 "metadata": {
  "kernelspec": {
   "display_name": "IV",
   "language": "python",
   "name": "iv"
  },
  "language_info": {
   "codemirror_mode": {
    "name": "ipython",
    "version": 3
   },
   "file_extension": ".py",
   "mimetype": "text/x-python",
   "name": "python",
   "nbconvert_exporter": "python",
   "pygments_lexer": "ipython3",
   "version": "3.8.5"
  }
 },
 "nbformat": 4,
 "nbformat_minor": 4
}
